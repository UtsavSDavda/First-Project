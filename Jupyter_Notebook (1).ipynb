{
 "cells": [
  {
   "cell_type": "markdown",
   "metadata": {},
   "source": [
    "# My Jupyter Notebook on IBM Watson Studio"
   ]
  },
  {
   "cell_type": "markdown",
   "metadata": {},
   "source": [
    "<b>UTSAV SNEHALBHAI DAVDA</b>\n",
    "\n",
    "\n",
    "MY DESIRED OCCUPATION IS A DATA SCIENTIST."
   ]
  },
  {
   "cell_type": "markdown",
   "metadata": {},
   "source": [
    "*I AM INTERESTED IN DATA SCIENCE BECAUSE I SEE THE OPPORTUNITIES IN DATA SCIENCE TO BE HUMONGOUS. I AM INTERESTED IN THE DATA SCIENCE APPLICATIONS IN THE HEALTH OR PHARMA FIELD.*"
   ]
  },
  {
   "cell_type": "markdown",
   "metadata": {},
   "source": [
    "## MY CODE WILL EXPLAIN THE TOTAL PROFIT OF AN ORDER"
   ]
  },
  {
   "cell_type": "code",
   "execution_count": 4,
   "metadata": {},
   "outputs": [
    {
     "name": "stdout",
     "output_type": "stream",
     "text": [
      "15\n"
     ]
    }
   ],
   "source": [
    "c = 10\n",
    "s = 25\n",
    "total_p = s - c\n",
    "print(total_p)"
   ]
  },
  {
   "cell_type": "markdown",
   "metadata": {},
   "source": [
    "1. DATA\n",
    "2. CLEANSING\n",
    "3. ML\n",
    "4. ALGORITHM\n",
    "  * LOGISTICS REGRESSION\n",
    "  * LINEAR REGRESSION\n",
    "5. DEEP LEARNING\n",
    "  * KERAS\n",
    "  * TENSORFLOW\n",
    "  \n",
    " <strike>UTSAV S DAVDA </strike>"
   ]
  }
 ],
 "metadata": {
  "kernelspec": {
   "display_name": "Python 3 (ipykernel)",
   "language": "python",
   "name": "python3"
  },
  "language_info": {
   "codemirror_mode": {
    "name": "ipython",
    "version": 3
   },
   "file_extension": ".py",
   "mimetype": "text/x-python",
   "name": "python",
   "nbconvert_exporter": "python",
   "pygments_lexer": "ipython3",
   "version": "3.9.12"
  }
 },
 "nbformat": 4,
 "nbformat_minor": 4
}
